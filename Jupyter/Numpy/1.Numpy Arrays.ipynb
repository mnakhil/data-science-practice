{
 "cells": [
  {
   "cell_type": "markdown",
   "id": "977c41d3",
   "metadata": {},
   "source": [
    "### Creating numpy arrays:"
   ]
  },
  {
   "cell_type": "code",
   "execution_count": 22,
   "id": "ead8d5b6",
   "metadata": {},
   "outputs": [],
   "source": [
    "import numpy as np"
   ]
  },
  {
   "cell_type": "markdown",
   "id": "88c49af7",
   "metadata": {},
   "source": [
    "##### 1. Conversion from other python structures(using python structure):"
   ]
  },
  {
   "cell_type": "code",
   "execution_count": 4,
   "id": "90d2053d",
   "metadata": {},
   "outputs": [
    {
     "data": {
      "text/plain": [
       "array([1, 2, 4, 5, 6])"
      ]
     },
     "execution_count": 4,
     "metadata": {},
     "output_type": "execute_result"
    }
   ],
   "source": [
    "arr=np.array([1,2,4,5,6])\n",
    "arr"
   ]
  },
  {
   "cell_type": "code",
   "execution_count": 6,
   "id": "e9b28408",
   "metadata": {},
   "outputs": [],
   "source": [
    "#indexing for 1D arrays in numpy is similar to normal array indexing\n",
    "#when you have 2D arrays here is how you index arrays"
   ]
  },
  {
   "cell_type": "code",
   "execution_count": 11,
   "id": "dc967f20",
   "metadata": {},
   "outputs": [
    {
     "data": {
      "text/plain": [
       "3"
      ]
     },
     "execution_count": 11,
     "metadata": {},
     "output_type": "execute_result"
    }
   ],
   "source": [
    "arr1=np.array([[2,34,3],[23,4,52]])\n",
    "arr1[0,2]"
   ]
  },
  {
   "cell_type": "code",
   "execution_count": 12,
   "id": "8b7b31d4",
   "metadata": {},
   "outputs": [],
   "source": [
    "#finding the order(shape) of the array"
   ]
  },
  {
   "cell_type": "code",
   "execution_count": 14,
   "id": "6772cb9b",
   "metadata": {},
   "outputs": [
    {
     "data": {
      "text/plain": [
       "(2, 3)"
      ]
     },
     "execution_count": 14,
     "metadata": {},
     "output_type": "execute_result"
    }
   ],
   "source": [
    "arr1.shape"
   ]
  },
  {
   "cell_type": "code",
   "execution_count": 15,
   "id": "441aa3a9",
   "metadata": {},
   "outputs": [],
   "source": [
    "#finding the data type of array"
   ]
  },
  {
   "cell_type": "code",
   "execution_count": 17,
   "id": "ea02b8e2",
   "metadata": {},
   "outputs": [
    {
     "data": {
      "text/plain": [
       "dtype('int32')"
      ]
     },
     "execution_count": 17,
     "metadata": {},
     "output_type": "execute_result"
    }
   ],
   "source": [
    "arr.dtype"
   ]
  },
  {
   "cell_type": "code",
   "execution_count": 18,
   "id": "71eaebff",
   "metadata": {},
   "outputs": [],
   "source": [
    "#Updating the elements of the array"
   ]
  },
  {
   "cell_type": "code",
   "execution_count": 21,
   "id": "88dfd31d",
   "metadata": {},
   "outputs": [
    {
     "data": {
      "text/plain": [
       "array([[ 2, 34,  3],\n",
       "       [23, 94, 52]])"
      ]
     },
     "execution_count": 21,
     "metadata": {},
     "output_type": "execute_result"
    }
   ],
   "source": [
    "arr1[1,1]=94\n",
    "arr1"
   ]
  },
  {
   "cell_type": "markdown",
   "id": "82d3b1ff",
   "metadata": {},
   "source": [
    "##### 2. Second type of array creation(arrang,zeros,ones, etc.):"
   ]
  },
  {
   "cell_type": "code",
   "execution_count": 30,
   "id": "9ac2b842",
   "metadata": {},
   "outputs": [],
   "source": [
    "# creating zero array"
   ]
  },
  {
   "cell_type": "code",
   "execution_count": 31,
   "id": "71814754",
   "metadata": {},
   "outputs": [
    {
     "data": {
      "text/plain": [
       "array([[0., 0., 0.],\n",
       "       [0., 0., 0.],\n",
       "       [0., 0., 0.]])"
      ]
     },
     "execution_count": 31,
     "metadata": {},
     "output_type": "execute_result"
    }
   ],
   "source": [
    "zero=np.zeros((3,3))\n",
    "zero"
   ]
  },
  {
   "cell_type": "code",
   "execution_count": 27,
   "id": "31cf3a33",
   "metadata": {},
   "outputs": [],
   "source": [
    "#creating an array ranging from a particular number to another"
   ]
  },
  {
   "cell_type": "code",
   "execution_count": 35,
   "id": "10cd8e44",
   "metadata": {},
   "outputs": [
    {
     "data": {
      "text/plain": [
       "array([ 0,  1,  2,  3,  4,  5,  6,  7,  8,  9, 10, 11, 12, 13, 14, 15, 16,\n",
       "       17, 18, 19, 20])"
      ]
     },
     "execution_count": 35,
     "metadata": {},
     "output_type": "execute_result"
    }
   ],
   "source": [
    "arng=np.arange(0,21)\n",
    "arng"
   ]
  },
  {
   "cell_type": "code",
   "execution_count": 37,
   "id": "f6054df9",
   "metadata": {},
   "outputs": [
    {
     "data": {
      "text/plain": [
       "array([ 0,  1,  2,  3,  4,  5,  6,  7,  8,  9, 10, 11, 12, 13, 14, 15, 16,\n",
       "       17, 18, 19])"
      ]
     },
     "execution_count": 37,
     "metadata": {},
     "output_type": "execute_result"
    }
   ],
   "source": [
    "#you can also pass single variable inside arange, it will display numbers from zero to (n-1)\n",
    "arng=np.arange(20)\n",
    "arng"
   ]
  },
  {
   "cell_type": "code",
   "execution_count": 38,
   "id": "99f13256",
   "metadata": {},
   "outputs": [],
   "source": [
    "#printing a particular number of numbers within a range \\\n",
    "#syntax: np.linspace(start,end,number_of_elements_needed)"
   ]
  },
  {
   "cell_type": "code",
   "execution_count": 40,
   "id": "3161edb2",
   "metadata": {},
   "outputs": [
    {
     "data": {
      "text/plain": [
       "array([ 1.        ,  1.51282051,  2.02564103,  2.53846154,  3.05128205,\n",
       "        3.56410256,  4.07692308,  4.58974359,  5.1025641 ,  5.61538462,\n",
       "        6.12820513,  6.64102564,  7.15384615,  7.66666667,  8.17948718,\n",
       "        8.69230769,  9.20512821,  9.71794872, 10.23076923, 10.74358974,\n",
       "       11.25641026, 11.76923077, 12.28205128, 12.79487179, 13.30769231,\n",
       "       13.82051282, 14.33333333, 14.84615385, 15.35897436, 15.87179487,\n",
       "       16.38461538, 16.8974359 , 17.41025641, 17.92307692, 18.43589744,\n",
       "       18.94871795, 19.46153846, 19.97435897, 20.48717949, 21.        ])"
      ]
     },
     "execution_count": 40,
     "metadata": {},
     "output_type": "execute_result"
    }
   ],
   "source": [
    "np.linspace(1,21,40)"
   ]
  },
  {
   "cell_type": "code",
   "execution_count": null,
   "id": "83938230",
   "metadata": {},
   "outputs": [],
   "source": []
  },
  {
   "cell_type": "markdown",
   "id": "31bf48a0",
   "metadata": {},
   "source": [
    "##### 3. Reading arrays from disk "
   ]
  },
  {
   "cell_type": "markdown",
   "id": "a94d66cb",
   "metadata": {},
   "source": [
    "##### 4. Creating arrays from raw bytes through the use of strings or buffers:"
   ]
  },
  {
   "cell_type": "markdown",
   "id": "752c8dbc",
   "metadata": {},
   "source": [
    "##### 5. Using special library function(e.g., random):"
   ]
  },
  {
   "cell_type": "code",
   "execution_count": 41,
   "id": "d4615b36",
   "metadata": {},
   "outputs": [],
   "source": [
    "#creating empty arrays of a particular order"
   ]
  },
  {
   "cell_type": "code",
   "execution_count": 43,
   "id": "138ddbf2",
   "metadata": {},
   "outputs": [
    {
     "data": {
      "text/plain": [
       "array([[1.32666631e-311, 3.16202013e-322, 0.00000000e+000,\n",
       "        0.00000000e+000],\n",
       "       [0.00000000e+000, 2.14229310e+160, 9.04728116e-067,\n",
       "        8.32559254e-071],\n",
       "       [3.60169502e+179, 1.03075195e-071, 3.34797598e-033,\n",
       "        7.91846931e+165]])"
      ]
     },
     "execution_count": 43,
     "metadata": {},
     "output_type": "execute_result"
    }
   ],
   "source": [
    "emp=np.empty((3,4))\n",
    "emp\n",
    "#on creating an empty array this will create an empty array with dummy values which we can change afterwards"
   ]
  },
  {
   "cell_type": "code",
   "execution_count": 44,
   "id": "0b9e6c0f",
   "metadata": {},
   "outputs": [],
   "source": [
    "#creating empty array with same order of an already existing array"
   ]
  },
  {
   "cell_type": "code",
   "execution_count": 46,
   "id": "e4ef1480",
   "metadata": {},
   "outputs": [
    {
     "data": {
      "text/plain": [
       "array([[1.32666631e-311, 3.16202013e-322, 0.00000000e+000,\n",
       "        0.00000000e+000],\n",
       "       [0.00000000e+000, 2.14229310e+160, 9.04728116e-067,\n",
       "        8.32559254e-071],\n",
       "       [3.60169502e+179, 1.03075195e-071, 3.34797598e-033,\n",
       "        7.91846931e+165]])"
      ]
     },
     "execution_count": 46,
     "metadata": {},
     "output_type": "execute_result"
    }
   ],
   "source": [
    "emp1=np.empty_like(emp) #creating an empty array with the shape of array 'emp'\n",
    "emp1"
   ]
  },
  {
   "cell_type": "code",
   "execution_count": 47,
   "id": "969c3118",
   "metadata": {},
   "outputs": [],
   "source": [
    "#creating an identity matrix"
   ]
  },
  {
   "cell_type": "code",
   "execution_count": 49,
   "id": "c2897fe1",
   "metadata": {},
   "outputs": [
    {
     "data": {
      "text/plain": [
       "array([[1., 0., 0., 0., 0.],\n",
       "       [0., 1., 0., 0., 0.],\n",
       "       [0., 0., 1., 0., 0.],\n",
       "       [0., 0., 0., 1., 0.],\n",
       "       [0., 0., 0., 0., 1.]])"
      ]
     },
     "execution_count": 49,
     "metadata": {},
     "output_type": "execute_result"
    }
   ],
   "source": [
    "idnt=np.identity(5)\n",
    "idnt"
   ]
  },
  {
   "cell_type": "code",
   "execution_count": 51,
   "id": "3f289531",
   "metadata": {},
   "outputs": [],
   "source": [
    "#creating an array of numbers and reshaping it to a possible order"
   ]
  },
  {
   "cell_type": "code",
   "execution_count": 53,
   "id": "aeeb9c24",
   "metadata": {},
   "outputs": [
    {
     "data": {
      "text/plain": [
       "array([[ 0,  1,  2,  3],\n",
       "       [ 4,  5,  6,  7],\n",
       "       [ 8,  9, 10, 11],\n",
       "       [12, 13, 14, 15],\n",
       "       [16, 17, 18, 19]])"
      ]
     },
     "execution_count": 53,
     "metadata": {},
     "output_type": "execute_result"
    }
   ],
   "source": [
    "arr1=np.arange(20).reshape(5,4)\n",
    "arr1"
   ]
  },
  {
   "cell_type": "code",
   "execution_count": 54,
   "id": "0da01a60",
   "metadata": {},
   "outputs": [],
   "source": [
    "#changing the array back to the base order"
   ]
  },
  {
   "cell_type": "code",
   "execution_count": 56,
   "id": "221e0ebe",
   "metadata": {},
   "outputs": [
    {
     "data": {
      "text/plain": [
       "array([ 0,  1,  2,  3,  4,  5,  6,  7,  8,  9, 10, 11, 12, 13, 14, 15, 16,\n",
       "       17, 18, 19])"
      ]
     },
     "execution_count": 56,
     "metadata": {},
     "output_type": "execute_result"
    }
   ],
   "source": [
    "arr1.ravel()"
   ]
  },
  {
   "cell_type": "code",
   "execution_count": null,
   "id": "81df0479",
   "metadata": {},
   "outputs": [],
   "source": []
  }
 ],
 "metadata": {
  "kernelspec": {
   "display_name": "Python 3",
   "language": "python",
   "name": "python3"
  },
  "language_info": {
   "codemirror_mode": {
    "name": "ipython",
    "version": 3
   },
   "file_extension": ".py",
   "mimetype": "text/x-python",
   "name": "python",
   "nbconvert_exporter": "python",
   "pygments_lexer": "ipython3",
   "version": "3.8.8"
  }
 },
 "nbformat": 4,
 "nbformat_minor": 5
}
