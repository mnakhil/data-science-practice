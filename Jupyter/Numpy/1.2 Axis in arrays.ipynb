{
 "cells": [
  {
   "cell_type": "markdown",
   "id": "40b5046d",
   "metadata": {},
   "source": [
    "#### See what axis will do with arrays:"
   ]
  },
  {
   "cell_type": "code",
   "execution_count": 2,
   "id": "2c733872",
   "metadata": {},
   "outputs": [
    {
     "data": {
      "text/plain": [
       "array([[ 1,  2,  3,  4],\n",
       "       [ 2,  3,  4,  5],\n",
       "       [ 5,  6, 74,  2]])"
      ]
     },
     "execution_count": 2,
     "metadata": {},
     "output_type": "execute_result"
    }
   ],
   "source": [
    "import numpy as np\n",
    "arr=np.array([[1,2,3,4],[2,3,4,5],[5,6,74,2]])\n",
    "arr"
   ]
  },
  {
   "cell_type": "code",
   "execution_count": 3,
   "id": "679f850b",
   "metadata": {},
   "outputs": [],
   "source": [
    "#Now using axis to find the sum of elements in the array\n",
    "#axis=0 represents the columns"
   ]
  },
  {
   "cell_type": "code",
   "execution_count": 4,
   "id": "90f8e3f1",
   "metadata": {},
   "outputs": [
    {
     "data": {
      "text/plain": [
       "array([ 8, 11, 81, 11])"
      ]
     },
     "execution_count": 4,
     "metadata": {},
     "output_type": "execute_result"
    }
   ],
   "source": [
    "arr.sum(axis=0)\n",
    "#this code will give the sum of each column"
   ]
  },
  {
   "cell_type": "code",
   "execution_count": 5,
   "id": "de7ee07c",
   "metadata": {},
   "outputs": [],
   "source": [
    "#In 1D arrays the axis will be zero, passing axis=0 will give you error.\n",
    "#Now axis=1 in a 2D array"
   ]
  },
  {
   "cell_type": "code",
   "execution_count": 7,
   "id": "7517181d",
   "metadata": {},
   "outputs": [
    {
     "data": {
      "text/plain": [
       "array([10, 14, 87])"
      ]
     },
     "execution_count": 7,
     "metadata": {},
     "output_type": "execute_result"
    }
   ],
   "source": [
    "arr.sum(axis=1)\n",
    "#gives us the sum of each row"
   ]
  },
  {
   "cell_type": "code",
   "execution_count": null,
   "id": "bc14f5eb",
   "metadata": {},
   "outputs": [],
   "source": []
  }
 ],
 "metadata": {
  "kernelspec": {
   "display_name": "Python 3",
   "language": "python",
   "name": "python3"
  },
  "language_info": {
   "codemirror_mode": {
    "name": "ipython",
    "version": 3
   },
   "file_extension": ".py",
   "mimetype": "text/x-python",
   "name": "python",
   "nbconvert_exporter": "python",
   "pygments_lexer": "ipython3",
   "version": "3.8.8"
  }
 },
 "nbformat": 4,
 "nbformat_minor": 5
}
