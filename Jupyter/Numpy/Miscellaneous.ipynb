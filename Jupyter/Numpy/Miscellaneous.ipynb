{
 "cells": [
  {
   "cell_type": "markdown",
   "id": "010893b4",
   "metadata": {},
   "source": [
    "### Reading text using Numpy:\n"
   ]
  },
  {
   "cell_type": "code",
   "execution_count": 11,
   "id": "5fcb9206",
   "metadata": {},
   "outputs": [
    {
     "data": {
      "text/plain": [
       "array([[ 1, 12, 12, 21,  3,  4, 34,  6],\n",
       "       [ 4,  2, 54, 46,  7,  8,  9, 56],\n",
       "       [ 2, 45,  6,  2, 43,  6,  7,  4]])"
      ]
     },
     "execution_count": 11,
     "metadata": {},
     "output_type": "execute_result"
    }
   ],
   "source": [
    "import numpy as np\n",
    "data=np.genfromtxt('test.txt',delimiter=',',dtype='int32')\n",
    "data"
   ]
  },
  {
   "cell_type": "markdown",
   "id": "15f85e2b",
   "metadata": {},
   "source": [
    "\n",
    "###### Boolean Masking and advanced Indexing:"
   ]
  },
  {
   "cell_type": "code",
   "execution_count": null,
   "id": "32d6512b",
   "metadata": {},
   "outputs": [],
   "source": []
  },
  {
   "cell_type": "code",
   "execution_count": 17,
   "id": "beb40df0",
   "metadata": {},
   "outputs": [
    {
     "data": {
      "text/plain": [
       "array([[ True,  True,  True,  True,  True,  True,  True,  True],\n",
       "       [ True,  True, False,  True,  True,  True,  True, False],\n",
       "       [ True,  True,  True,  True,  True,  True,  True,  True]])"
      ]
     },
     "execution_count": 17,
     "metadata": {},
     "output_type": "execute_result"
    }
   ],
   "source": [
    "(data<=50)"
   ]
  },
  {
   "cell_type": "code",
   "execution_count": 24,
   "id": "3ad37cbe",
   "metadata": {},
   "outputs": [
    {
     "data": {
      "text/plain": [
       "array([ 1, 12, 12, 21,  3,  4, 34,  6,  4,  2, 46,  7,  8,  9,  2, 45,  6,\n",
       "        2, 43,  6,  7,  4])"
      ]
     },
     "execution_count": 24,
     "metadata": {},
     "output_type": "execute_result"
    }
   ],
   "source": [
    "data[data<=50]"
   ]
  },
  {
   "cell_type": "code",
   "execution_count": 34,
   "id": "9214f7bd",
   "metadata": {},
   "outputs": [
    {
     "data": {
      "text/plain": [
       "array([[False, False, False, False, False, False, False, False],\n",
       "       [False, False,  True, False, False, False, False,  True],\n",
       "       [False, False, False, False, False, False, False, False]])"
      ]
     },
     "execution_count": 34,
     "metadata": {},
     "output_type": "execute_result"
    }
   ],
   "source": [
    "((data>50) & (data<100))"
   ]
  },
  {
   "cell_type": "code",
   "execution_count": 41,
   "id": "d9d8e426",
   "metadata": {},
   "outputs": [
    {
     "data": {
      "text/plain": [
       "array([[ 1,  2,  3,  4,  5],\n",
       "       [ 6,  7,  8,  9, 10],\n",
       "       [11, 12, 13, 14, 15],\n",
       "       [16, 17, 18, 19, 20],\n",
       "       [21, 22, 23, 24, 25],\n",
       "       [26, 27, 28, 29, 30]])"
      ]
     },
     "execution_count": 41,
     "metadata": {},
     "output_type": "execute_result"
    }
   ],
   "source": [
    "arr=np.arange(1,31).reshape(6,5)\n",
    "arr\n"
   ]
  },
  {
   "cell_type": "code",
   "execution_count": 44,
   "id": "c1c53835",
   "metadata": {},
   "outputs": [
    {
     "data": {
      "text/plain": [
       "array([[11, 12],\n",
       "       [16, 17]])"
      ]
     },
     "execution_count": 44,
     "metadata": {},
     "output_type": "execute_result"
    }
   ],
   "source": [
    "arr[2:4,0:2]"
   ]
  },
  {
   "cell_type": "code",
   "execution_count": 47,
   "id": "9da54340",
   "metadata": {},
   "outputs": [
    {
     "data": {
      "text/plain": [
       "array([ 2,  8, 14, 20])"
      ]
     },
     "execution_count": 47,
     "metadata": {},
     "output_type": "execute_result"
    }
   ],
   "source": [
    "arr[[0,1,2,3],[1,2,3,4]]"
   ]
  },
  {
   "cell_type": "code",
   "execution_count": 48,
   "id": "11951688",
   "metadata": {},
   "outputs": [
    {
     "data": {
      "text/plain": [
       "array([[ 4,  5],\n",
       "       [24, 25],\n",
       "       [29, 30]])"
      ]
     },
     "execution_count": 48,
     "metadata": {},
     "output_type": "execute_result"
    }
   ],
   "source": [
    "arr[[0,4,5],3:]"
   ]
  }
 ],
 "metadata": {
  "kernelspec": {
   "display_name": "Python 3",
   "language": "python",
   "name": "python3"
  },
  "language_info": {
   "codemirror_mode": {
    "name": "ipython",
    "version": 3
   },
   "file_extension": ".py",
   "mimetype": "text/x-python",
   "name": "python",
   "nbconvert_exporter": "python",
   "pygments_lexer": "ipython3",
   "version": "3.8.8"
  }
 },
 "nbformat": 4,
 "nbformat_minor": 5
}
