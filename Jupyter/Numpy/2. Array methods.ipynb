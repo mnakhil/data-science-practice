{
 "cells": [
  {
   "cell_type": "code",
   "execution_count": 1,
   "id": "b5c90dec",
   "metadata": {},
   "outputs": [],
   "source": [
    "#Finding the transpose of the array"
   ]
  },
  {
   "cell_type": "code",
   "execution_count": 2,
   "id": "f5aac588",
   "metadata": {},
   "outputs": [
    {
     "data": {
      "text/plain": [
       "array([[ 1, 23, 45],\n",
       "       [21,  5,  3],\n",
       "       [ 3,  4,  6]])"
      ]
     },
     "execution_count": 2,
     "metadata": {},
     "output_type": "execute_result"
    }
   ],
   "source": [
    "import numpy as np\n",
    "arr=np.array([[1,23,45],[21,5,3],[3,4,6]])\n",
    "arr"
   ]
  },
  {
   "cell_type": "code",
   "execution_count": 3,
   "id": "3666bdf6",
   "metadata": {},
   "outputs": [
    {
     "data": {
      "text/plain": [
       "array([[ 1, 21,  3],\n",
       "       [23,  5,  4],\n",
       "       [45,  3,  6]])"
      ]
     },
     "execution_count": 3,
     "metadata": {},
     "output_type": "execute_result"
    }
   ],
   "source": [
    "#syntax to find the transpose\n",
    "arr.T"
   ]
  },
  {
   "cell_type": "code",
   "execution_count": 4,
   "id": "cdae7fbf",
   "metadata": {},
   "outputs": [
    {
     "data": {
      "text/plain": [
       "<numpy.flatiter at 0x12339e00ce0>"
      ]
     },
     "execution_count": 4,
     "metadata": {},
     "output_type": "execute_result"
    }
   ],
   "source": [
    "#showing the array a 1D\n",
    "arr.flat #creates 1D iterator"
   ]
  },
  {
   "cell_type": "code",
   "execution_count": 5,
   "id": "ee352e3f",
   "metadata": {},
   "outputs": [
    {
     "name": "stdout",
     "output_type": "stream",
     "text": [
      "1\n",
      "23\n",
      "45\n",
      "21\n",
      "5\n",
      "3\n",
      "3\n",
      "4\n",
      "6\n"
     ]
    }
   ],
   "source": [
    "for item in arr.flat:\n",
    "    print(item)\n",
    "    type(item)"
   ]
  },
  {
   "cell_type": "code",
   "execution_count": 6,
   "id": "370280d0",
   "metadata": {},
   "outputs": [
    {
     "data": {
      "text/plain": [
       "2"
      ]
     },
     "execution_count": 6,
     "metadata": {},
     "output_type": "execute_result"
    }
   ],
   "source": [
    "#finding the dimention of the array\n",
    "arr.ndim"
   ]
  },
  {
   "cell_type": "code",
   "execution_count": 7,
   "id": "f3bdf158",
   "metadata": {},
   "outputs": [
    {
     "data": {
      "text/plain": [
       "9"
      ]
     },
     "execution_count": 7,
     "metadata": {},
     "output_type": "execute_result"
    }
   ],
   "source": [
    "#finding size of the array\n",
    "arr.size"
   ]
  },
  {
   "cell_type": "code",
   "execution_count": 8,
   "id": "957df2e1",
   "metadata": {},
   "outputs": [
    {
     "data": {
      "text/plain": [
       "36"
      ]
     },
     "execution_count": 8,
     "metadata": {},
     "output_type": "execute_result"
    }
   ],
   "source": [
    "#bytes used by the arrya\n",
    "arr.nbytes"
   ]
  },
  {
   "cell_type": "markdown",
   "id": "7a2dc246",
   "metadata": {},
   "source": [
    "##### Max, min, sort:"
   ]
  },
  {
   "cell_type": "code",
   "execution_count": 9,
   "id": "796a2abb",
   "metadata": {},
   "outputs": [],
   "source": [
    "#finding the index of minimum element of the array"
   ]
  },
  {
   "cell_type": "code",
   "execution_count": 17,
   "id": "d24700b6",
   "metadata": {},
   "outputs": [
    {
     "data": {
      "text/plain": [
       "0"
      ]
     },
     "execution_count": 17,
     "metadata": {},
     "output_type": "execute_result"
    }
   ],
   "source": [
    "arr.argmin()"
   ]
  },
  {
   "cell_type": "code",
   "execution_count": 18,
   "id": "c9827f73",
   "metadata": {},
   "outputs": [
    {
     "data": {
      "text/plain": [
       "array([0, 2, 1], dtype=int64)"
      ]
     },
     "execution_count": 18,
     "metadata": {},
     "output_type": "execute_result"
    }
   ],
   "source": [
    "#finding the index of min element of each row\n",
    "arr.argmin(axis=0)"
   ]
  },
  {
   "cell_type": "code",
   "execution_count": 14,
   "id": "73e78a95",
   "metadata": {},
   "outputs": [],
   "source": [
    "#index of the maximum element"
   ]
  },
  {
   "cell_type": "code",
   "execution_count": 15,
   "id": "8be98779",
   "metadata": {},
   "outputs": [
    {
     "data": {
      "text/plain": [
       "2"
      ]
     },
     "execution_count": 15,
     "metadata": {},
     "output_type": "execute_result"
    }
   ],
   "source": [
    "arr.argmax()"
   ]
  },
  {
   "cell_type": "code",
   "execution_count": 19,
   "id": "672a3d2a",
   "metadata": {},
   "outputs": [],
   "source": [
    "#finding the index of maximum element of each row"
   ]
  },
  {
   "cell_type": "code",
   "execution_count": 21,
   "id": "5e2f1218",
   "metadata": {},
   "outputs": [
    {
     "data": {
      "text/plain": [
       "array([2, 0, 2], dtype=int64)"
      ]
     },
     "execution_count": 21,
     "metadata": {},
     "output_type": "execute_result"
    }
   ],
   "source": [
    "arr.argmax(axis=1)"
   ]
  },
  {
   "cell_type": "code",
   "execution_count": 22,
   "id": "83f5a246",
   "metadata": {},
   "outputs": [],
   "source": [
    "#sorting"
   ]
  },
  {
   "cell_type": "code",
   "execution_count": 31,
   "id": "24b6e2a9",
   "metadata": {},
   "outputs": [
    {
     "data": {
      "text/plain": [
       "array([[0, 1, 2],\n",
       "       [2, 1, 0],\n",
       "       [0, 1, 2]], dtype=int64)"
      ]
     },
     "execution_count": 31,
     "metadata": {},
     "output_type": "execute_result"
    }
   ],
   "source": [
    "arr.argsort()"
   ]
  },
  {
   "cell_type": "markdown",
   "id": "27eaf0be",
   "metadata": {},
   "source": [
    "##### Array addition, subtraction, multiplication:"
   ]
  },
  {
   "cell_type": "code",
   "execution_count": 34,
   "id": "ecbb951f",
   "metadata": {},
   "outputs": [],
   "source": [
    "arr1=np.arange(3,12).reshape(3,3)\n",
    "arr2=np.arange(10,19).reshape(3,3)"
   ]
  },
  {
   "cell_type": "code",
   "execution_count": null,
   "id": "87eb3680",
   "metadata": {},
   "outputs": [],
   "source": [
    "#adding arrays:"
   ]
  },
  {
   "cell_type": "code",
   "execution_count": 36,
   "id": "7ba85c5f",
   "metadata": {},
   "outputs": [
    {
     "data": {
      "text/plain": [
       "array([[13, 15, 17],\n",
       "       [19, 21, 23],\n",
       "       [25, 27, 29]])"
      ]
     },
     "execution_count": 36,
     "metadata": {},
     "output_type": "execute_result"
    }
   ],
   "source": [
    "arr1+arr2"
   ]
  },
  {
   "cell_type": "code",
   "execution_count": 37,
   "id": "05cae6b3",
   "metadata": {},
   "outputs": [],
   "source": [
    "#substracting arrays:"
   ]
  },
  {
   "cell_type": "code",
   "execution_count": 39,
   "id": "9b172b96",
   "metadata": {},
   "outputs": [
    {
     "data": {
      "text/plain": [
       "array([[-7, -7, -7],\n",
       "       [-7, -7, -7],\n",
       "       [-7, -7, -7]])"
      ]
     },
     "execution_count": 39,
     "metadata": {},
     "output_type": "execute_result"
    }
   ],
   "source": [
    "arr1-arr2"
   ]
  },
  {
   "cell_type": "code",
   "execution_count": 40,
   "id": "5f6162b1",
   "metadata": {},
   "outputs": [],
   "source": [
    "#multiplication af arrays:"
   ]
  },
  {
   "cell_type": "code",
   "execution_count": 42,
   "id": "4ce88348",
   "metadata": {},
   "outputs": [
    {
     "data": {
      "text/plain": [
       "array([[ 30,  44,  60],\n",
       "       [ 78,  98, 120],\n",
       "       [144, 170, 198]])"
      ]
     },
     "execution_count": 42,
     "metadata": {},
     "output_type": "execute_result"
    }
   ],
   "source": [
    "arr1*arr2"
   ]
  },
  {
   "cell_type": "code",
   "execution_count": 43,
   "id": "1285507a",
   "metadata": {},
   "outputs": [],
   "source": [
    "# Finding the square root of the array elements"
   ]
  },
  {
   "cell_type": "code",
   "execution_count": 45,
   "id": "2e9691bd",
   "metadata": {},
   "outputs": [
    {
     "data": {
      "text/plain": [
       "array([[1.        , 4.79583152, 6.70820393],\n",
       "       [4.58257569, 2.23606798, 1.73205081],\n",
       "       [1.73205081, 2.        , 2.44948974]])"
      ]
     },
     "execution_count": 45,
     "metadata": {},
     "output_type": "execute_result"
    }
   ],
   "source": [
    "np.sqrt(arr)"
   ]
  },
  {
   "cell_type": "code",
   "execution_count": 47,
   "id": "42a62d5a",
   "metadata": {},
   "outputs": [],
   "source": [
    "#sum of all elements in the array:"
   ]
  },
  {
   "cell_type": "code",
   "execution_count": 49,
   "id": "dc91952f",
   "metadata": {},
   "outputs": [
    {
     "data": {
      "text/plain": [
       "111"
      ]
     },
     "execution_count": 49,
     "metadata": {},
     "output_type": "execute_result"
    }
   ],
   "source": [
    "arr.sum()"
   ]
  },
  {
   "cell_type": "code",
   "execution_count": 50,
   "id": "e470d225",
   "metadata": {},
   "outputs": [],
   "source": [
    "#minimum value of the array:"
   ]
  },
  {
   "cell_type": "code",
   "execution_count": 52,
   "id": "0d4a0f63",
   "metadata": {},
   "outputs": [
    {
     "data": {
      "text/plain": [
       "1"
      ]
     },
     "execution_count": 52,
     "metadata": {},
     "output_type": "execute_result"
    }
   ],
   "source": [
    "arr.min()"
   ]
  },
  {
   "cell_type": "code",
   "execution_count": 54,
   "id": "b0977f93",
   "metadata": {},
   "outputs": [],
   "source": [
    "#maximum value of the array:"
   ]
  },
  {
   "cell_type": "code",
   "execution_count": 56,
   "id": "5cadac85",
   "metadata": {},
   "outputs": [
    {
     "data": {
      "text/plain": [
       "45"
      ]
     },
     "execution_count": 56,
     "metadata": {},
     "output_type": "execute_result"
    }
   ],
   "source": [
    "arr.max()"
   ]
  },
  {
   "cell_type": "code",
   "execution_count": 57,
   "id": "415a68c1",
   "metadata": {},
   "outputs": [],
   "source": [
    "#finding which all elements follows a particular condition:"
   ]
  },
  {
   "cell_type": "code",
   "execution_count": 59,
   "id": "fdfc5879",
   "metadata": {},
   "outputs": [
    {
     "data": {
      "text/plain": [
       "(array([0, 0, 1], dtype=int64), array([1, 2, 0], dtype=int64))"
      ]
     },
     "execution_count": 59,
     "metadata": {},
     "output_type": "execute_result"
    }
   ],
   "source": [
    "np.where(arr>10)"
   ]
  },
  {
   "cell_type": "code",
   "execution_count": 60,
   "id": "38bcc3c8",
   "metadata": {},
   "outputs": [],
   "source": [
    "#Counting the non-zero elements in an array:"
   ]
  },
  {
   "cell_type": "code",
   "execution_count": 62,
   "id": "ceb200c3",
   "metadata": {},
   "outputs": [
    {
     "data": {
      "text/plain": [
       "9"
      ]
     },
     "execution_count": 62,
     "metadata": {},
     "output_type": "execute_result"
    }
   ],
   "source": [
    "np.count_nonzero(arr)"
   ]
  },
  {
   "cell_type": "code",
   "execution_count": 66,
   "id": "12172ad0",
   "metadata": {},
   "outputs": [
    {
     "data": {
      "text/plain": [
       "(array([0, 0, 0, 1, 1, 1, 2, 2, 2], dtype=int64),\n",
       " array([0, 1, 2, 0, 1, 2, 0, 1, 2], dtype=int64))"
      ]
     },
     "execution_count": 66,
     "metadata": {},
     "output_type": "execute_result"
    }
   ],
   "source": [
    "#gives the position tuple of non-zero elements\n",
    "np.nonzero(arr)"
   ]
  },
  {
   "cell_type": "code",
   "execution_count": null,
   "id": "89b9377f",
   "metadata": {},
   "outputs": [],
   "source": [
    "#Visit: scipy.org"
   ]
  },
  {
   "cell_type": "code",
   "execution_count": 65,
   "id": "53eb59da",
   "metadata": {},
   "outputs": [
    {
     "data": {
      "text/plain": [
       "array([[ 1, 23, 45],\n",
       "       [21,  5,  3],\n",
       "       [ 3,  4,  6]])"
      ]
     },
     "execution_count": 65,
     "metadata": {},
     "output_type": "execute_result"
    }
   ],
   "source": [
    "arr"
   ]
  }
 ],
 "metadata": {
  "kernelspec": {
   "display_name": "Python 3",
   "language": "python",
   "name": "python3"
  },
  "language_info": {
   "codemirror_mode": {
    "name": "ipython",
    "version": 3
   },
   "file_extension": ".py",
   "mimetype": "text/x-python",
   "name": "python",
   "nbconvert_exporter": "python",
   "pygments_lexer": "ipython3",
   "version": "3.8.8"
  }
 },
 "nbformat": 4,
 "nbformat_minor": 5
}
