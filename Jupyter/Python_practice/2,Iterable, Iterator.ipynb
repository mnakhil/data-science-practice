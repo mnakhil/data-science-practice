{
 "cells": [
  {
   "cell_type": "markdown",
   "id": "06fd7a4e",
   "metadata": {},
   "source": [
    "## Iterable, Iterator:\n",
    "=> List is iterable<br>\n",
    "=> List can be converted into an iterator\n"
   ]
  },
  {
   "cell_type": "code",
   "execution_count": 2,
   "id": "726486d9",
   "metadata": {},
   "outputs": [
    {
     "name": "stdout",
     "output_type": "stream",
     "text": [
      "1\n",
      "2\n",
      "3\n",
      "5\n",
      "32\n",
      "435\n"
     ]
    }
   ],
   "source": [
    "lst=[1,2,3,5,32,435]\n",
    "for i in lst: #this for loop proves that list is iterable\n",
    "    print(i)"
   ]
  },
  {
   "cell_type": "code",
   "execution_count": 6,
   "id": "e3d64972",
   "metadata": {},
   "outputs": [
    {
     "data": {
      "text/plain": [
       "1"
      ]
     },
     "execution_count": 6,
     "metadata": {},
     "output_type": "execute_result"
    }
   ],
   "source": [
    "lst1=iter(lst) #using iter() we can convert a list into an iterator\n",
    "next(lst1)"
   ]
  },
  {
   "cell_type": "code",
   "execution_count": 8,
   "id": "6c131f48",
   "metadata": {},
   "outputs": [
    {
     "data": {
      "text/plain": [
       "3"
      ]
     },
     "execution_count": 8,
     "metadata": {},
     "output_type": "execute_result"
    }
   ],
   "source": [
    "next(lst1)"
   ]
  },
  {
   "cell_type": "markdown",
   "id": "a2e0bf36",
   "metadata": {},
   "source": [
    "#### As shown above using iter() we can make a list an iterator.\n",
    "=> iterator allocates memory only when called."
   ]
  },
  {
   "cell_type": "code",
   "execution_count": null,
   "id": "aa470cc9",
   "metadata": {},
   "outputs": [],
   "source": []
  }
 ],
 "metadata": {
  "kernelspec": {
   "display_name": "Python 3",
   "language": "python",
   "name": "python3"
  },
  "language_info": {
   "codemirror_mode": {
    "name": "ipython",
    "version": 3
   },
   "file_extension": ".py",
   "mimetype": "text/x-python",
   "name": "python",
   "nbconvert_exporter": "python",
   "pygments_lexer": "ipython3",
   "version": "3.8.8"
  }
 },
 "nbformat": 4,
 "nbformat_minor": 5
}
