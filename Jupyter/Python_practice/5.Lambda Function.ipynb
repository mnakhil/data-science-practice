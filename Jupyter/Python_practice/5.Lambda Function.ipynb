{
 "cells": [
  {
   "cell_type": "markdown",
   "id": "2e978499",
   "metadata": {},
   "source": [
    "Lambda Function:\n",
    "-------------------------\n",
    "=> Lambda function is used to define a function in single line<br>\n",
    "=> Only a function with single argument can be defined as lambda function<br>\n",
    "=> Its an anonymous function as well as a function with no name<br>"
   ]
  },
  {
   "cell_type": "markdown",
   "id": "c5d4eb6f",
   "metadata": {},
   "source": [
    "### Sum of two numbers:"
   ]
  },
  {
   "cell_type": "code",
   "execution_count": 3,
   "id": "ed36857d",
   "metadata": {},
   "outputs": [
    {
     "data": {
      "text/plain": [
       "22"
      ]
     },
     "execution_count": 3,
     "metadata": {},
     "output_type": "execute_result"
    }
   ],
   "source": [
    "sum1= lambda a,b:a+b\n",
    "sum1(10,12)"
   ]
  },
  {
   "cell_type": "markdown",
   "id": "5b5900c1",
   "metadata": {},
   "source": [
    "### Even number or not:"
   ]
  },
  {
   "cell_type": "code",
   "execution_count": 6,
   "id": "bdeb3b50",
   "metadata": {},
   "outputs": [
    {
     "data": {
      "text/plain": [
       "False"
      ]
     },
     "execution_count": 6,
     "metadata": {},
     "output_type": "execute_result"
    }
   ],
   "source": [
    "even= lambda a:a%2==0\n",
    "even(9)"
   ]
  }
 ],
 "metadata": {
  "kernelspec": {
   "display_name": "Python 3",
   "language": "python",
   "name": "python3"
  },
  "language_info": {
   "codemirror_mode": {
    "name": "ipython",
    "version": 3
   },
   "file_extension": ".py",
   "mimetype": "text/x-python",
   "name": "python",
   "nbconvert_exporter": "python",
   "pygments_lexer": "ipython3",
   "version": "3.8.8"
  }
 },
 "nbformat": 4,
 "nbformat_minor": 5
}
