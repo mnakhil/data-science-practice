{
 "cells": [
  {
   "cell_type": "markdown",
   "id": "3cedeb32",
   "metadata": {},
   "source": [
    "## User defined Exception:"
   ]
  },
  {
   "cell_type": "code",
   "execution_count": 3,
   "id": "26d84cf4",
   "metadata": {},
   "outputs": [
    {
     "name": "stdout",
     "output_type": "stream",
     "text": [
      "Enter your year of birth2010\n",
      "You are not eligible for applying since you don't belong to the age group.\n"
     ]
    }
   ],
   "source": [
    "#inheritting the class exception into custom class Error\n",
    "class Error(Exception):\n",
    "    pass\n",
    "#inheritting the Error class into the class for handling the specific exception\n",
    "class dobException(Error):\n",
    "    pass\n",
    "#try block contains the code block where exception may occur\n",
    "try:\n",
    "    year=int(input(\"Enter your year of birth\"))\n",
    "    age=2021-year\n",
    "    if age>=20 and age<=30:\n",
    "        print(\"You are eligible for applying\")\n",
    "    else:\n",
    "        raise dobException #asks the computer to raise the exception if the condition\n",
    "#expected exception is handled and custom message is being printed.        \n",
    "except dobException:\n",
    "    print(\"You are not eligible for applying since you don't belong to the age group.\")\n",
    "    "
   ]
  }
 ],
 "metadata": {
  "kernelspec": {
   "display_name": "Python 3",
   "language": "python",
   "name": "python3"
  },
  "language_info": {
   "codemirror_mode": {
    "name": "ipython",
    "version": 3
   },
   "file_extension": ".py",
   "mimetype": "text/x-python",
   "name": "python",
   "nbconvert_exporter": "python",
   "pygments_lexer": "ipython3",
   "version": "3.8.8"
  }
 },
 "nbformat": 4,
 "nbformat_minor": 5
}
