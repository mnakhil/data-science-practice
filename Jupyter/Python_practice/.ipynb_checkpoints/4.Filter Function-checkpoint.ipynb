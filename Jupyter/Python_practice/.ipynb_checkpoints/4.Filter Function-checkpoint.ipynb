{
 "cells": [
  {
   "cell_type": "markdown",
   "id": "7b12200b",
   "metadata": {},
   "source": [
    "## Filter Function:\n",
    "   Filter function is basically used to filter out those values for which the given condition of the fuction is true."
   ]
  },
  {
   "cell_type": "code",
   "execution_count": 2,
   "id": "d7fb0387",
   "metadata": {},
   "outputs": [
    {
     "data": {
      "text/plain": [
       "[2, 4, 6]"
      ]
     },
     "execution_count": 2,
     "metadata": {},
     "output_type": "execute_result"
    }
   ],
   "source": [
    "def even_check(num):\n",
    "    if num%2==0:\n",
    "        return True\n",
    "    \n",
    "lst=[1,2,3,4,5,6]\n",
    "list(filter(even_check,lst))"
   ]
  },
  {
   "cell_type": "markdown",
   "id": "fe983d06",
   "metadata": {},
   "source": [
    "#### Using lambda function inside filter function:"
   ]
  },
  {
   "cell_type": "code",
   "execution_count": 3,
   "id": "89ae6e10",
   "metadata": {},
   "outputs": [
    {
     "data": {
      "text/plain": [
       "[2, 4, 6]"
      ]
     },
     "execution_count": 3,
     "metadata": {},
     "output_type": "execute_result"
    }
   ],
   "source": [
    "list(filter(lambda num:num%2==0,lst))"
   ]
  }
 ],
 "metadata": {
  "kernelspec": {
   "display_name": "Python 3",
   "language": "python",
   "name": "python3"
  },
  "language_info": {
   "codemirror_mode": {
    "name": "ipython",
    "version": 3
   },
   "file_extension": ".py",
   "mimetype": "text/x-python",
   "name": "python",
   "nbconvert_exporter": "python",
   "pygments_lexer": "ipython3",
   "version": "3.8.8"
  }
 },
 "nbformat": 4,
 "nbformat_minor": 5
}
