{
 "cells": [
  {
   "cell_type": "markdown",
   "id": "3aa471e7",
   "metadata": {},
   "source": [
    "## Public Protected Private Variables:\n",
    "In python accessing these protected or private variables are not strict. There are possibilities that we may override these variable and make it public."
   ]
  },
  {
   "cell_type": "code",
   "execution_count": 4,
   "id": "c73cba5c",
   "metadata": {},
   "outputs": [
    {
     "data": {
      "text/plain": [
       "'akhil'"
      ]
     },
     "execution_count": 4,
     "metadata": {},
     "output_type": "execute_result"
    }
   ],
   "source": [
    "#Here we can see all the variables defined the class is public.\n",
    "\n",
    "class new:\n",
    "    def __init__(self,name,age,weight):\n",
    "        self.name=name\n",
    "        self.age=age\n",
    "        self.weight=weight\n",
    "        \n",
    "person1=new(\"akhil\",27,82)\n",
    "person1.name"
   ]
  },
  {
   "cell_type": "code",
   "execution_count": 7,
   "id": "45e45766",
   "metadata": {},
   "outputs": [
    {
     "data": {
      "text/plain": [
       "['__class__',\n",
       " '__delattr__',\n",
       " '__dict__',\n",
       " '__dir__',\n",
       " '__doc__',\n",
       " '__eq__',\n",
       " '__format__',\n",
       " '__ge__',\n",
       " '__getattribute__',\n",
       " '__gt__',\n",
       " '__hash__',\n",
       " '__init__',\n",
       " '__init_subclass__',\n",
       " '__le__',\n",
       " '__lt__',\n",
       " '__module__',\n",
       " '__ne__',\n",
       " '__new__',\n",
       " '__reduce__',\n",
       " '__reduce_ex__',\n",
       " '__repr__',\n",
       " '__setattr__',\n",
       " '__sizeof__',\n",
       " '__str__',\n",
       " '__subclasshook__',\n",
       " '__weakref__',\n",
       " 'age',\n",
       " 'name',\n",
       " 'weight']"
      ]
     },
     "execution_count": 7,
     "metadata": {},
     "output_type": "execute_result"
    }
   ],
   "source": [
    "dir(person1)"
   ]
  },
  {
   "cell_type": "markdown",
   "id": "80770611",
   "metadata": {},
   "source": [
    "=> Protected Variables are defined as **_variablename**"
   ]
  },
  {
   "cell_type": "code",
   "execution_count": 1,
   "id": "cd6286e0",
   "metadata": {},
   "outputs": [
    {
     "data": {
      "text/plain": [
       "'akhil'"
      ]
     },
     "execution_count": 1,
     "metadata": {},
     "output_type": "execute_result"
    }
   ],
   "source": [
    "# Here all the variables are protected\n",
    "\n",
    "class new1:\n",
    "    def __init__(self,name,age,weight):\n",
    "        self._name=name\n",
    "        self._age=age\n",
    "        self._weight=weight\n",
    "        \n",
    "''' Here as shown below class 'employ' is used to override the protected \n",
    "variables in the above class 'new1'.'''        \n",
    "        \n",
    "class employ(new1):\n",
    "    def __init__(self,name,age,weight,address):\n",
    "        super().__init__(name,age,weight)\n",
    "        self.name=name\n",
    "        self.age=age\n",
    "        self.weight=weight\n",
    "        self.address=address\n",
    "#Only a child class can override the protected variable.\n",
    "person2=employ(\"akhil\",27,82,\"kannur\")\n",
    "person2.name"
   ]
  },
  {
   "cell_type": "code",
   "execution_count": 4,
   "id": "eb178594",
   "metadata": {},
   "outputs": [
    {
     "ename": "AttributeError",
     "evalue": "'new1' object has no attribute 'name'",
     "output_type": "error",
     "traceback": [
      "\u001b[1;31m---------------------------------------------------------------------------\u001b[0m",
      "\u001b[1;31mAttributeError\u001b[0m                            Traceback (most recent call last)",
      "\u001b[1;32m<ipython-input-4-504950ff7ec5>\u001b[0m in \u001b[0;36m<module>\u001b[1;34m\u001b[0m\n\u001b[0;32m      1\u001b[0m \u001b[0mperson21\u001b[0m\u001b[1;33m=\u001b[0m\u001b[0mnew1\u001b[0m\u001b[1;33m(\u001b[0m\u001b[1;34m\"akhil\"\u001b[0m\u001b[1;33m,\u001b[0m\u001b[1;36m27\u001b[0m\u001b[1;33m,\u001b[0m\u001b[1;36m81\u001b[0m\u001b[1;33m)\u001b[0m\u001b[1;33m\u001b[0m\u001b[1;33m\u001b[0m\u001b[0m\n\u001b[1;32m----> 2\u001b[1;33m \u001b[0mperson21\u001b[0m\u001b[1;33m.\u001b[0m\u001b[0mname\u001b[0m\u001b[1;33m\u001b[0m\u001b[1;33m\u001b[0m\u001b[0m\n\u001b[0m",
      "\u001b[1;31mAttributeError\u001b[0m: 'new1' object has no attribute 'name'"
     ]
    }
   ],
   "source": [
    "person21=new1(\"akhil\",27,81)\n",
    "person21.name\n",
    "#attribute name cannot be accessed outside the class\n",
    "#But can be accessed inside a child class"
   ]
  },
  {
   "cell_type": "markdown",
   "id": "960efd28",
   "metadata": {},
   "source": [
    "=> Private variables in python are defined as **__variablename**"
   ]
  },
  {
   "cell_type": "code",
   "execution_count": 21,
   "id": "2cfa030c",
   "metadata": {},
   "outputs": [
    {
     "name": "stdout",
     "output_type": "stream",
     "text": [
      "Name of the person is akhil\n",
      "Age of the persone is 27\n"
     ]
    }
   ],
   "source": [
    "class persond:\n",
    "    def __init__(self,name,age,weight):\n",
    "        self.__name=name\n",
    "        self.__age=age\n",
    "        self.__weight=weight\n",
    "    def print_details(self):\n",
    "        print(\"Name of the person is {}\".format(self.__name))\n",
    "        print(\"Age of the persone is \"+str(self.__age))\n",
    "person3=persond(\"akhil\",27,82)\n",
    "person3.print_details()"
   ]
  },
  {
   "cell_type": "code",
   "execution_count": null,
   "id": "571f03fe",
   "metadata": {},
   "outputs": [],
   "source": []
  },
  {
   "cell_type": "code",
   "execution_count": null,
   "id": "6589d639",
   "metadata": {},
   "outputs": [],
   "source": []
  }
 ],
 "metadata": {
  "kernelspec": {
   "display_name": "Python 3",
   "language": "python",
   "name": "python3"
  },
  "language_info": {
   "codemirror_mode": {
    "name": "ipython",
    "version": 3
   },
   "file_extension": ".py",
   "mimetype": "text/x-python",
   "name": "python",
   "nbconvert_exporter": "python",
   "pygments_lexer": "ipython3",
   "version": "3.8.8"
  }
 },
 "nbformat": 4,
 "nbformat_minor": 5
}
