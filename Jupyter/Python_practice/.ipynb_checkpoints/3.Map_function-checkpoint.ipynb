{
 "cells": [
  {
   "cell_type": "markdown",
   "id": "64cd7925",
   "metadata": {},
   "source": [
    "Map Function:\n",
    "--------------------\n",
    "Map Function allows us to take a list of numbers and pass the values into a function using the above code"
   ]
  },
  {
   "cell_type": "code",
   "execution_count": 12,
   "id": "619b19f8",
   "metadata": {
    "scrolled": true
   },
   "outputs": [
    {
     "data": {
      "text/plain": [
       "['The number 1 is odd',\n",
       " 'The number 2 is even',\n",
       " 'The number 3 is odd',\n",
       " 'The number 4 is even',\n",
       " 'The number 5 is odd',\n",
       " 'The number 6 is even',\n",
       " 'The number 7 is odd',\n",
       " 'The number 8 is even']"
      ]
     },
     "execution_count": 12,
     "metadata": {},
     "output_type": "execute_result"
    }
   ],
   "source": [
    "def even_or_odd(args):\n",
    "    if(args%2==0):\n",
    "        return \"The number {} is even\".format(args)\n",
    "    else:\n",
    "        return \"The number {} is odd\".format(args)\n",
    "lst=[1,2,3,4,5,6,7,8]\n",
    "list(map(even_or_odd,lst))"
   ]
  }
 ],
 "metadata": {
  "kernelspec": {
   "display_name": "Python 3",
   "language": "python",
   "name": "python3"
  },
  "language_info": {
   "codemirror_mode": {
    "name": "ipython",
    "version": 3
   },
   "file_extension": ".py",
   "mimetype": "text/x-python",
   "name": "python",
   "nbconvert_exporter": "python",
   "pygments_lexer": "ipython3",
   "version": "3.8.8"
  }
 },
 "nbformat": 4,
 "nbformat_minor": 5
}
