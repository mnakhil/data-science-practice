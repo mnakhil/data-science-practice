{
 "cells": [
  {
   "cell_type": "markdown",
   "id": "1317ef4a",
   "metadata": {},
   "source": [
    "## OOPS Concepts:\n"
   ]
  },
  {
   "cell_type": "code",
   "execution_count": 1,
   "id": "13a8d4b7",
   "metadata": {},
   "outputs": [],
   "source": [
    "# Constructor in python class is called '__init__' function\n",
    "# init function is implemented as shown below"
   ]
  },
  {
   "cell_type": "code",
   "execution_count": 4,
   "id": "9db1115a",
   "metadata": {},
   "outputs": [],
   "source": [
    "class person:\n",
    "    def __init__(self,name,age):\n",
    "        self.name=name\n",
    "        self.age=age"
   ]
  },
  {
   "cell_type": "code",
   "execution_count": 3,
   "id": "70ff7019",
   "metadata": {},
   "outputs": [],
   "source": [
    "#Constructor in python works similar to that in java\n",
    "#Constructor is called when the class is called"
   ]
  },
  {
   "cell_type": "code",
   "execution_count": null,
   "id": "b044a30e",
   "metadata": {},
   "outputs": [],
   "source": []
  }
 ],
 "metadata": {
  "kernelspec": {
   "display_name": "Python 3",
   "language": "python",
   "name": "python3"
  },
  "language_info": {
   "codemirror_mode": {
    "name": "ipython",
    "version": 3
   },
   "file_extension": ".py",
   "mimetype": "text/x-python",
   "name": "python",
   "nbconvert_exporter": "python",
   "pygments_lexer": "ipython3",
   "version": "3.8.8"
  }
 },
 "nbformat": 4,
 "nbformat_minor": 5
}
