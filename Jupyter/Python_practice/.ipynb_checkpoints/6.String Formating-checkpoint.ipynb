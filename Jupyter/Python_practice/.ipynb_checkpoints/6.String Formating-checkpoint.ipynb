{
 "cells": [
  {
   "cell_type": "markdown",
   "id": "984ebacd",
   "metadata": {},
   "source": [
    "## String Formatting in Python:"
   ]
  },
  {
   "cell_type": "code",
   "execution_count": 1,
   "id": "c1c14cd9",
   "metadata": {},
   "outputs": [
    {
     "data": {
      "text/plain": [
       "'Name is akhil and age is 27'"
      ]
     },
     "execution_count": 1,
     "metadata": {},
     "output_type": "execute_result"
    }
   ],
   "source": [
    "def fun(name,age):\n",
    "    #order does matter since place holder is empty\n",
    "    return \"Name is {} and age is {}\".format(name, age)\n",
    "fun(\"akhil\",27)"
   ]
  },
  {
   "cell_type": "code",
   "execution_count": 6,
   "id": "2eac6d24",
   "metadata": {},
   "outputs": [
    {
     "data": {
      "text/plain": [
       "'Name is akhil and age is 27'"
      ]
     },
     "execution_count": 6,
     "metadata": {},
     "output_type": "execute_result"
    }
   ],
   "source": [
    "def fun1(name1,age1):\n",
    "    #order does not matter when the place holder is assigned with some local variabel\n",
    "    return \"Name is {name} and age is {age}\".format(age=age1,name=name1)\n",
    "fun1(\"akhil\", 27)"
   ]
  },
  {
   "cell_type": "code",
   "execution_count": 7,
   "id": "46443620",
   "metadata": {},
   "outputs": [
    {
     "data": {
      "text/plain": [
       "'Name is ancy and age is 26'"
      ]
     },
     "execution_count": 7,
     "metadata": {},
     "output_type": "execute_result"
    }
   ],
   "source": [
    "#Another way of formating\n",
    "def fun2(name2,age2):\n",
    "    #directly passing the variable inside the return statement\n",
    "    return f\"Name is {name2} and age is {age2}\"\n",
    "fun2(\"ancy\",26)"
   ]
  }
 ],
 "metadata": {
  "kernelspec": {
   "display_name": "Python 3",
   "language": "python",
   "name": "python3"
  },
  "language_info": {
   "codemirror_mode": {
    "name": "ipython",
    "version": 3
   },
   "file_extension": ".py",
   "mimetype": "text/x-python",
   "name": "python",
   "nbconvert_exporter": "python",
   "pygments_lexer": "ipython3",
   "version": "3.8.8"
  }
 },
 "nbformat": 4,
 "nbformat_minor": 5
}
