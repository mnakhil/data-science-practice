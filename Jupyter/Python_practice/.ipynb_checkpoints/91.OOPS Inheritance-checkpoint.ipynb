{
 "cells": [
  {
   "cell_type": "markdown",
   "id": "9b88a993",
   "metadata": {},
   "source": [
    "## OOPS Inheritance:\n"
   ]
  },
  {
   "cell_type": "code",
   "execution_count": 1,
   "id": "63f84191",
   "metadata": {},
   "outputs": [],
   "source": [
    "#Creating a base class"
   ]
  },
  {
   "cell_type": "code",
   "execution_count": 2,
   "id": "a84c2212",
   "metadata": {},
   "outputs": [],
   "source": [
    "class person:\n",
    "    #creating a constructor\n",
    "    def __init__(self,name,age):\n",
    "        print(\"Welcome everyone!\")\n",
    "        self.name=name\n",
    "        self.age=age"
   ]
  },
  {
   "cell_type": "code",
   "execution_count": 3,
   "id": "f3d1d5ea",
   "metadata": {},
   "outputs": [],
   "source": [
    "#Creating a sub class"
   ]
  },
  {
   "cell_type": "code",
   "execution_count": 19,
   "id": "ad1809f6",
   "metadata": {},
   "outputs": [],
   "source": [
    "class engineer(person):\n",
    "    #initializing constructor of the subclass\n",
    "    def __init__(self,name,age,sex): #updating the constructor is possible\n",
    "        #using super() we are able to take the variables defined in the parent class\n",
    "        super().__init__(name,age) \n",
    "        self.sex=sex\n",
    "    #defining a function to address the person based on their sex\n",
    "    def print_name(self):\n",
    "        if self.sex.lower()=='male':\n",
    "            print(\"Hello Mr. {}, Glad you are here.\".format(self.name))\n",
    "        elif self.sex.lower()=='female':\n",
    "            print(\"Hello Ms. {}. Glad you are here.\".format(self.name))\n",
    "        else:\n",
    "            print(\"Invalid Input!\")"
   ]
  },
  {
   "cell_type": "code",
   "execution_count": 5,
   "id": "da91c9ed",
   "metadata": {},
   "outputs": [],
   "source": [
    "#Calling a class\n",
    "#Calling the subclass will give us access to the parent class as well"
   ]
  },
  {
   "cell_type": "code",
   "execution_count": 18,
   "id": "cee65681",
   "metadata": {},
   "outputs": [
    {
     "name": "stdout",
     "output_type": "stream",
     "text": [
      "Welcome everyone!\n",
      "Hello Mr. Subramanyam, Glad you are here\n"
     ]
    }
   ],
   "source": [
    "eng=engineer(\"Subramanyam\",35,\"Male\")\n",
    "eng.print_name()"
   ]
  },
  {
   "cell_type": "code",
   "execution_count": null,
   "id": "0125354e",
   "metadata": {},
   "outputs": [],
   "source": []
  }
 ],
 "metadata": {
  "kernelspec": {
   "display_name": "Python 3",
   "language": "python",
   "name": "python3"
  },
  "language_info": {
   "codemirror_mode": {
    "name": "ipython",
    "version": 3
   },
   "file_extension": ".py",
   "mimetype": "text/x-python",
   "name": "python",
   "nbconvert_exporter": "python",
   "pygments_lexer": "ipython3",
   "version": "3.8.8"
  }
 },
 "nbformat": 4,
 "nbformat_minor": 5
}
